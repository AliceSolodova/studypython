{
 "cells": [
  {
   "cell_type": "code",
   "execution_count": 1,
   "id": "05f65aa5-4e1d-439d-9ac1-0a66c2e72196",
   "metadata": {},
   "outputs": [],
   "source": [
    "import re\n"
   ]
  },
  {
   "cell_type": "code",
   "execution_count": 15,
   "id": "67b48067-106b-4769-96aa-5040fb1a8457",
   "metadata": {},
   "outputs": [],
   "source": [
    "flight = \"\"\"\n",
    "Boarding pass: LA4214 AER-CDB 06NOV\n",
    "Boarding pass: LA4215 AER-CDB 07NOV\n",
    "Boarding pass: LA4217 AER-CDB 07NOV\n",
    "\"\"\"\n"
   ]
  },
  {
   "cell_type": "code",
   "execution_count": 16,
   "id": "d113323a-482d-4440-a0bc-dd86f078fd26",
   "metadata": {},
   "outputs": [
    {
     "name": "stdout",
     "output_type": "stream",
     "text": [
      "<re.Match object; span=(16, 36), match='LA4214 AER-CDB 06NOV'>\n",
      "AER\n"
     ]
    }
   ],
   "source": [
    "regex_flight = r'([A-Z]{2})(\\d{4})\\s([A-Z]{3})-([A-Z]{3})\\s(\\d{2}[A-Z]{3})'\n",
    "\n",
    "flight_match_result = re.search(regex_flight, flight)\n",
    "\n",
    "print(flight_match_result)\n",
    "\n",
    "print(flight_match_result.group(3))\n"
   ]
  },
  {
   "cell_type": "code",
   "execution_count": 24,
   "id": "c602ad94-ae38-4ff4-b746-1ab992dfa6e0",
   "metadata": {},
   "outputs": [
    {
     "name": "stdout",
     "output_type": "stream",
     "text": [
      "[('LA', '4214', 'AER', 'CDB', '06NOV'), ('LA', '4215', 'AER', 'CDB', '07NOV'), ('LA', '4217', 'AER', 'CDB', '07NOV')]\n",
      "([A-Z]{2})(\\d{4})\\s([A-Z]{3})-([A-Z]{3})\\s(\\d{2}[A-Z]{3})\n"
     ]
    }
   ],
   "source": [
    "regex_flight = r'([A-Z]{2})(\\d{4})\\s([A-Z]{3})-([A-Z]{3})\\s(\\d{2}[A-Z]{3})'\n",
    "\n",
    "flight_match_result = re.findall(regex_flight, flight)\n",
    "print(flight_match_result)\n",
    "print (regex_flight)"
   ]
  },
  {
   "cell_type": "code",
   "execution_count": null,
   "id": "4bc85001-444d-4455-872f-39a142135265",
   "metadata": {},
   "outputs": [],
   "source": []
  }
 ],
 "metadata": {
  "kernelspec": {
   "display_name": "Python 3 (ipykernel)",
   "language": "python",
   "name": "python3"
  },
  "language_info": {
   "codemirror_mode": {
    "name": "ipython",
    "version": 3
   },
   "file_extension": ".py",
   "mimetype": "text/x-python",
   "name": "python",
   "nbconvert_exporter": "python",
   "pygments_lexer": "ipython3",
   "version": "3.12.7"
  }
 },
 "nbformat": 4,
 "nbformat_minor": 5
}
